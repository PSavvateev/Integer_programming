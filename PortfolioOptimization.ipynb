{
 "cells": [
  {
   "cell_type": "markdown",
   "id": "11a6c1a0-6ea5-414f-800b-b1ae69448556",
   "metadata": {},
   "source": [
    "# Linear Optimization "
   ]
  },
  {
   "cell_type": "markdown",
   "id": "04d9a815-a6d2-4941-ae22-2ad505dda9ec",
   "metadata": {},
   "source": [
    "## Stock Data"
   ]
  },
  {
   "cell_type": "markdown",
   "id": "d3fcf90c-a324-4d82-934e-1d6cfbc9dfc6",
   "metadata": {},
   "source": [
    "### Overview of the stock data"
   ]
  },
  {
   "cell_type": "markdown",
   "id": "8519b907-835d-4f3e-a0c7-09fbe22cb437",
   "metadata": {},
   "source": [
    "$p_{st}$ - price of stock $s$ at the closing of the day $t$ <br>\n",
    "$r_{st} = {p_{t+1} \\over p_t}$ - daily return on investment of stock $s$ <br>\n",
    "$r_s = {{1 \\over T} \\sum_t^T {p_{s,t+1} \\over p_{s,t}}}$ - average return, where $T$ - last day of the period <br>\n",
    "$d_{st} = r_{st} - r_{s}$ - daily risk of a stock (deviation of a daily return from the average return)\n"
   ]
  },
  {
   "cell_type": "markdown",
   "id": "051d7b2c-3fdb-4e64-9b7a-d8e4b8737fcc",
   "metadata": {},
   "source": [
    "### Getting the data from yahoo finance"
   ]
  },
  {
   "cell_type": "code",
   "execution_count": 6,
   "id": "b442fec7-c36b-41e2-a0f5-a1ed3388a7af",
   "metadata": {},
   "outputs": [],
   "source": [
    "import pandas as pd\n",
    "import pandas_datareader as pdr"
   ]
  },
  {
   "cell_type": "code",
   "execution_count": 45,
   "id": "60ea2808-1050-47f3-a5c7-8eb3eb5ef43c",
   "metadata": {},
   "outputs": [],
   "source": [
    "stock_symbols = ['AMD', 'QCOM', 'INTC', 'NVDA', 'UMC']\n",
    "stocks = {}\n",
    "\n",
    "for symbol in stock_symbols:\n",
    "    stock = {}\n",
    "    df = pdr.get_data_yahoo(symbol, start=\"2021-01-01\")\n",
    "    df[\"DailyReturn\"] = df[\"Close\"].pct_change() \n",
    "    avg_return = df[\"DailyReturn\"].sum() / len(df)\n",
    "    df[\"DailyRisk\"] = df[\"DailyReturn\"].apply(lambda x: x-avg_return)\n",
    "    df.drop(index=df.index[0],axis=0, inplace=True)\n",
    "    \n",
    "    stock[\"return\"] = df[\"DailyReturn\"].tolist()\n",
    "    stock[\"risk\"] = df[\"DailyRisk\"].tolist()\n",
    "    stock[\"avg_return\"] = avg_return\n",
    "    stock[\"last_price\"] = df[\"Close\"].iloc[-1]\n",
    "    stocks[symbol] = stock"
   ]
  },
  {
   "cell_type": "code",
   "execution_count": 46,
   "id": "7ff4fa35-e48b-42d2-8c0e-d86a65f6f599",
   "metadata": {},
   "outputs": [],
   "source": [
    "import json\n",
    "\n",
    "with open('portfolio.json', 'w') as fp:\n",
    "    json.dump(stocks, fp)"
   ]
  },
  {
   "cell_type": "code",
   "execution_count": 40,
   "id": "1d04aaca-1629-4430-b5a5-a5ee7fe38c09",
   "metadata": {},
   "outputs": [],
   "source": []
  },
  {
   "cell_type": "markdown",
   "id": "1eff413d-9c98-4b6c-b181-041bdae7051f",
   "metadata": {},
   "source": [
    "## Stock Portfolio Optimization Model: Mean Absolute Deviation (MAD)"
   ]
  },
  {
   "cell_type": "markdown",
   "id": "cbdaaea2-a3c9-46a5-8fe8-31deb847da37",
   "metadata": {},
   "source": [
    "**Mean Absolute Deviation (MAD)** model (Konno & Yamazaki*) uses observed data over the stock prices and minimizes the risk while exceeding a minimum return on investement.\n",
    "\n",
    "$R$ - minimum guaranteed return on investment<br><br>\n",
    "$I$ - total investment<br><br>\n",
    "$z_s$ -  number of shares purchased of stock $s$<br><br>\n",
    "$x_s = {p_{s,T}*z_s \\over I}$ - proportion of the total investment invested in stock $s$<br><br>\n",
    "$y_{st} = {d_{st}*x_s \\over N_{stocks}}$ - average daily risk wheighted by share of stock $s$<br>\n",
    "\n",
    "Model: <br><br>\n",
    "$min{1 \\over T} \\sum_t^T {y_{t}}$<br><br>\n",
    "\n",
    "The difference between the daily return compared to the average over all of the stocks has to be within $y_t$:<br>\n",
    "$\\forall t, \\sum_s d_{st}x_s \\geq -y_t$<br>\n",
    "$\\forall t, \\sum_s d_{st}x_s \\leq y_t$<br>\n",
    "\n",
    "Averege wheighted return should be at least $R$:<br>\n",
    "$\\sum_s r_sx_s \\geq R$<br>\n",
    "\n",
    "The sum of all stocks proportion should be equal to 1:<br>\n",
    "$\\sum_s x_s = 1$<br>\n",
    "\n",
    "The number of shares is an integer number as a share of investment devided by the last price of the stock:<br>\n",
    "$z_s = {x_s*I \\over p_{s,T}}$<br>\n",
    "\n",
    "\n",
    "Proportion of each stock is non-begative: <br>\n",
    "$\\forall s, x_s \\geq 0$<br>\n",
    "\n",
    "Average daily risk is non-negative:<br>\n",
    "$\\forall t, y_t \\geq 0$<br>"
   ]
  },
  {
   "cell_type": "code",
   "execution_count": 67,
   "id": "d44bc6c4-58da-4170-bda1-809612601385",
   "metadata": {},
   "outputs": [],
   "source": [
    "from ortools.linear_solver import pywraplp\n",
    "\n",
    "import json\n",
    "with open('portfolio.json', 'r') as fp:\n",
    "    portfolio = json.load(fp)\n",
    "    \n"
   ]
  },
  {
   "cell_type": "markdown",
   "id": "f8cbe758-8048-4bce-a025-3382a4a65860",
   "metadata": {
    "tags": []
   },
   "source": [
    "#### 1. Instantiate Google's LP Solver"
   ]
  },
  {
   "cell_type": "code",
   "execution_count": 69,
   "id": "32e2176b-6149-4ee0-aaf6-3706b03cb8d5",
   "metadata": {
    "tags": []
   },
   "outputs": [],
   "source": [
    "solver = pywraplp.Solver.CreateSolver('SCIP')\n",
    "\n",
    "# daily return as a target\n",
    "R = 0.0\n",
    "\n",
    "# total investment\n",
    "I = 10000\n",
    "\n",
    "# total number of days in the analyzed data-set\n",
    "T = len(list(portfolio.values())[0]['return'])\n",
    "\n",
    "#total number of stocks in the portfolio\n",
    "N = len(portfolio.keys())"
   ]
  },
  {
   "cell_type": "markdown",
   "id": "23b157da-bb08-4446-b8d7-9a184e02b1ba",
   "metadata": {},
   "source": [
    "#### 2. Adding variables to the model"
   ]
  },
  {
   "cell_type": "code",
   "execution_count": 71,
   "id": "b0b2193d-0a6b-4b51-bc72-319705aaf7b5",
   "metadata": {},
   "outputs": [
    {
     "name": "stdout",
     "output_type": "stream",
     "text": [
      "Number of variables = 766\n"
     ]
    }
   ],
   "source": [
    "# x = {stock_name: share} -proportion of each stock in the portfolio\n",
    "# z - number of shares to purchase\n",
    "x = {}\n",
    "z = {}\n",
    "\n",
    "for stock in portfolio:\n",
    "    x[stock] = solver.NumVar(0,1, 'stock_proportion_'+str(stock))\n",
    "    z[stock] = solver.IntVar(0, solver.infinity(), 'number of shares_'+str(stock))\n",
    "    \n",
    "# y = {day_number: y} -average daily risk wheighted by stock share\n",
    "y = {}\n",
    "for t in range(T):\n",
    "    y[t] = solver.NumVar(0, solver.infinity(), 'avg_risk_'+str(t))\n",
    "\n",
    "    \n",
    "print('Number of variables =', solver.NumVariables())    \n",
    "\n"
   ]
  },
  {
   "cell_type": "markdown",
   "id": "1d0cb9ad-484f-4167-a347-50f4db7a51f7",
   "metadata": {},
   "source": [
    "#### 3. Adding constraints to the model"
   ]
  },
  {
   "cell_type": "markdown",
   "id": "059d0b9e-c9fc-4648-906e-60716f451172",
   "metadata": {
    "jp-MarkdownHeadingCollapsed": true,
    "tags": []
   },
   "source": [
    "**3.1.** The difference between the daily return compared to the average over all of the stocks has to be within $y_{st}$:<br>\n",
    "$\\forall t, \\sum_s d_{st}x_s \\geq -y_{st}$<br>\n",
    "$\\forall t, \\sum_s d_{st}x_s \\leq y_{st}$<br>"
   ]
  },
  {
   "cell_type": "code",
   "execution_count": 72,
   "id": "9e67aad7-68d7-4221-b57d-a868de6c1b01",
   "metadata": {},
   "outputs": [],
   "source": [
    "for t in range(T):\n",
    "    solver.Add(sum(x[stock]*portfolio[stock][\"risk\"][t] for stock in x) / N >= -y[t])\n",
    "    solver.Add(sum(x[stock]*portfolio[stock][\"risk\"][t] for stock in x) / N <= y[t])\n",
    "    \n"
   ]
  },
  {
   "cell_type": "markdown",
   "id": "589bff28-7204-4c64-9ea5-a76cb6e9be12",
   "metadata": {},
   "source": [
    "**3.2.** Avrerage return wheighted on share should be at least $R$:<br>\n",
    "$\\sum_s r_sx_s \\geq R$<br>"
   ]
  },
  {
   "cell_type": "code",
   "execution_count": 73,
   "id": "9667f69d-b3d2-47cd-99f8-7f14585d2997",
   "metadata": {
    "tags": []
   },
   "outputs": [
    {
     "data": {
      "text/plain": [
       "<ortools.linear_solver.pywraplp.Constraint; proxy of <Swig Object of type 'operations_research::MPConstraint *' at 0x000001DD26167DB0> >"
      ]
     },
     "execution_count": 73,
     "metadata": {},
     "output_type": "execute_result"
    }
   ],
   "source": [
    "solver.Add((sum(x[stock]*portfolio[stock][\"avg_return\"] for stock in portfolio)/ N) >= R)"
   ]
  },
  {
   "cell_type": "markdown",
   "id": "78c803c4-0818-461b-9d36-a4dea05d2e79",
   "metadata": {},
   "source": [
    "**3.3.** The sum of all stocks proportion should be equal to 1:<br>\n",
    "$\\sum_s x_s = 1$<br>"
   ]
  },
  {
   "cell_type": "code",
   "execution_count": 74,
   "id": "1875b320-9b86-471e-9b0e-e6cd568676f1",
   "metadata": {
    "tags": []
   },
   "outputs": [
    {
     "data": {
      "text/plain": [
       "<ortools.linear_solver.pywraplp.Constraint; proxy of <Swig Object of type 'operations_research::MPConstraint *' at 0x000001DD261D1500> >"
      ]
     },
     "execution_count": 74,
     "metadata": {},
     "output_type": "execute_result"
    }
   ],
   "source": [
    "solver.Add(sum(x[stock] for stock in portfolio) == 1)"
   ]
  },
  {
   "cell_type": "markdown",
   "id": "6effea28-a17b-4b05-80dc-e85c53cbb523",
   "metadata": {},
   "source": [
    "**3.4.** Number of shares for each stock:<br>\n",
    "$z_s = {x_s*I \\over p_{s,T}}$"
   ]
  },
  {
   "cell_type": "code",
   "execution_count": 75,
   "id": "d8dc4800-c0a4-4b4a-8c19-b5c7137cd73b",
   "metadata": {},
   "outputs": [],
   "source": [
    "for stock in z:\n",
    "    solver.Add((x[stock]*I/portfolio[stock][\"last_price\"]) == z[stock])"
   ]
  },
  {
   "cell_type": "markdown",
   "id": "f909816d-a960-4a71-865e-1e19c80a4639",
   "metadata": {},
   "source": [
    "#### 4. Defining optimization function\n",
    "\n",
    "Sum of daily y's for all days should be minimum\n"
   ]
  },
  {
   "cell_type": "code",
   "execution_count": 76,
   "id": "fbe327c0-374d-45d7-8361-8a57b6bd3de0",
   "metadata": {},
   "outputs": [],
   "source": [
    "solver.Minimize(sum(y[t] for t in y) / len(y.keys()))"
   ]
  },
  {
   "cell_type": "markdown",
   "id": "e787e1c5-ad4c-4a79-970f-21902eb15be9",
   "metadata": {},
   "source": [
    "#### 5. Solution"
   ]
  },
  {
   "cell_type": "code",
   "execution_count": 79,
   "id": "b315efb3-3dee-45a8-82c1-f027fae1e917",
   "metadata": {},
   "outputs": [
    {
     "name": "stdout",
     "output_type": "stream",
     "text": [
      "Solution:\n",
      "Objective value = 0.0033390191676388272\n",
      "x_AMD = 0.08974899597167965\n",
      "z_AMD = 11.0 stock purchase =  897.4899597167969\n",
      "x_QCOM = 0.1878240051269531\n",
      "z_QCOM = 14.0 stock purchase =  1878.2400512695312\n",
      "x_INTC = 0.4271279949188231\n",
      "z_INTC = 111.0 stock purchase =  4271.279949188232\n",
      "x_NVDA = 0.14549544525146485\n",
      "z_NVDA = 9.0 stock purchase =  1454.9544525146484\n",
      "x_UMC = 0.14980355873107937\n",
      "z_UMC = 210.0 stock purchase =  1498.035020828247\n",
      "Total investment = 9999.999433517456\n"
     ]
    }
   ],
   "source": [
    "status = solver.Solve()\n",
    "\n",
    "if status == pywraplp.Solver.OPTIMAL:\n",
    "    print('Solution:')\n",
    "    print('Objective value =', solver.Objective().Value())\n",
    "    total_investment = 0.0\n",
    "    for stock in portfolio:\n",
    "        print('x_'+str(stock)+' =', x[stock].solution_value())\n",
    "        print('z_'+str(stock)+\" =\", z[stock].solution_value(), \"stock purchase = \", z[stock].solution_value()*portfolio[stock][\"last_price\"])\n",
    "        total_investment += z[stock].solution_value()*portfolio[stock][\"last_price\"]\n",
    "    print(\"Total investment =\", total_investment)"
   ]
  },
  {
   "cell_type": "code",
   "execution_count": null,
   "id": "fa658512-06a0-443d-9882-a079e955ff9e",
   "metadata": {},
   "outputs": [],
   "source": []
  }
 ],
 "metadata": {
  "kernelspec": {
   "display_name": "Python 3 (ipykernel)",
   "language": "python",
   "name": "python3"
  },
  "language_info": {
   "codemirror_mode": {
    "name": "ipython",
    "version": 3
   },
   "file_extension": ".py",
   "mimetype": "text/x-python",
   "name": "python",
   "nbconvert_exporter": "python",
   "pygments_lexer": "ipython3",
   "version": "3.10.4"
  }
 },
 "nbformat": 4,
 "nbformat_minor": 5
}
